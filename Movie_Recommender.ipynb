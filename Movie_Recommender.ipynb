{
 "cells": [
  {
   "cell_type": "markdown",
   "id": "b48761aa",
   "metadata": {},
   "source": [
    "# Movie Recommender System\n",
    "\n",
    "            \n",
    "  ### 1.   Load and Merge Datasets\n",
    "  ### 2.   Initial Cleaning\n",
    "  ### 3.   Feature Engineering\n",
    "  ### 4.   Preprocessing \n",
    "  #### 5.   EDA (Basic Data Analysis with Visuals)\n",
    "  #### 6.   Build Recommender System using KNN\n",
    "  ### 7.   Model Validation and Evaluation\n",
    "  ### 8. NLP"
   ]
  },
  {
   "cell_type": "markdown",
   "id": "a2b08579",
   "metadata": {},
   "source": [
    "### Imports"
   ]
  },
  {
   "cell_type": "code",
   "execution_count": 1,
   "id": "09bafb36",
   "metadata": {},
   "outputs": [],
   "source": [
    "import pandas as pd \n",
    "from sklearn.pipeline import Pipeline\n",
    "from sklearn.compose import ColumnTransformer\n",
    "from sklearn.impute import SimpleImputer\n",
    "from sklearn.preprocessing import StandardScaler, OneHotEncoder\n",
    "\n",
    "\n",
    "import matplotlib.pyplot as plt\n",
    "import seaborn as sns\n",
    "\n",
    "from sklearn.neighbors import NearestNeighbors\n",
    "\n",
    "\n"
   ]
  },
  {
   "cell_type": "markdown",
   "id": "825fe559",
   "metadata": {},
   "source": [
    "### 1. Load and Merge datasets"
   ]
  },
  {
   "cell_type": "markdown",
   "id": "4c14c651",
   "metadata": {},
   "source": [
    "Datasets from Kaggle. This dataset contains almost 5000 movies' data. We will work on it to make Recommender ML model using KNN. "
   ]
  },
  {
   "cell_type": "code",
   "execution_count": 2,
   "id": "9ad6c5fc",
   "metadata": {},
   "outputs": [],
   "source": [
    "# load the datasets and merge them according to title\n",
    "\n",
    "movies = pd.read_csv(\"D:\\\\DATA_SCIENCE_BOOTCAMP\\\\Movie_recommender\\\\tmdb_5000_movies.csv\")"
   ]
  },
  {
   "cell_type": "code",
   "execution_count": 3,
   "id": "84971c14",
   "metadata": {},
   "outputs": [
    {
     "data": {
      "text/plain": [
       "Index(['budget', 'genres', 'homepage', 'id', 'keywords', 'original_language',\n",
       "       'original_title', 'overview', 'popularity', 'production_companies',\n",
       "       'production_countries', 'release_date', 'revenue', 'runtime',\n",
       "       'spoken_languages', 'status', 'tagline', 'title', 'vote_average',\n",
       "       'vote_count'],\n",
       "      dtype='object')"
      ]
     },
     "execution_count": 3,
     "metadata": {},
     "output_type": "execute_result"
    }
   ],
   "source": [
    "movies.columns"
   ]
  },
  {
   "cell_type": "code",
   "execution_count": 4,
   "id": "f03eae36",
   "metadata": {},
   "outputs": [],
   "source": [
    "credits = pd.read_csv(\"D:\\\\DATA_SCIENCE_BOOTCAMP\\\\Movie_recommender\\\\tmdb_5000_credits.csv\")"
   ]
  },
  {
   "cell_type": "code",
   "execution_count": 5,
   "id": "cd7f3e6c",
   "metadata": {},
   "outputs": [
    {
     "data": {
      "text/html": [
       "<div>\n",
       "<style scoped>\n",
       "    .dataframe tbody tr th:only-of-type {\n",
       "        vertical-align: middle;\n",
       "    }\n",
       "\n",
       "    .dataframe tbody tr th {\n",
       "        vertical-align: top;\n",
       "    }\n",
       "\n",
       "    .dataframe thead th {\n",
       "        text-align: right;\n",
       "    }\n",
       "</style>\n",
       "<table border=\"1\" class=\"dataframe\">\n",
       "  <thead>\n",
       "    <tr style=\"text-align: right;\">\n",
       "      <th></th>\n",
       "      <th>movie_id</th>\n",
       "      <th>title</th>\n",
       "      <th>cast</th>\n",
       "      <th>crew</th>\n",
       "    </tr>\n",
       "  </thead>\n",
       "  <tbody>\n",
       "    <tr>\n",
       "      <th>0</th>\n",
       "      <td>19995</td>\n",
       "      <td>Avatar</td>\n",
       "      <td>[{\"cast_id\": 242, \"character\": \"Jake Sully\", \"...</td>\n",
       "      <td>[{\"credit_id\": \"52fe48009251416c750aca23\", \"de...</td>\n",
       "    </tr>\n",
       "    <tr>\n",
       "      <th>1</th>\n",
       "      <td>285</td>\n",
       "      <td>Pirates of the Caribbean: At World's End</td>\n",
       "      <td>[{\"cast_id\": 4, \"character\": \"Captain Jack Spa...</td>\n",
       "      <td>[{\"credit_id\": \"52fe4232c3a36847f800b579\", \"de...</td>\n",
       "    </tr>\n",
       "    <tr>\n",
       "      <th>2</th>\n",
       "      <td>206647</td>\n",
       "      <td>Spectre</td>\n",
       "      <td>[{\"cast_id\": 1, \"character\": \"James Bond\", \"cr...</td>\n",
       "      <td>[{\"credit_id\": \"54805967c3a36829b5002c41\", \"de...</td>\n",
       "    </tr>\n",
       "    <tr>\n",
       "      <th>3</th>\n",
       "      <td>49026</td>\n",
       "      <td>The Dark Knight Rises</td>\n",
       "      <td>[{\"cast_id\": 2, \"character\": \"Bruce Wayne / Ba...</td>\n",
       "      <td>[{\"credit_id\": \"52fe4781c3a36847f81398c3\", \"de...</td>\n",
       "    </tr>\n",
       "    <tr>\n",
       "      <th>4</th>\n",
       "      <td>49529</td>\n",
       "      <td>John Carter</td>\n",
       "      <td>[{\"cast_id\": 5, \"character\": \"John Carter\", \"c...</td>\n",
       "      <td>[{\"credit_id\": \"52fe479ac3a36847f813eaa3\", \"de...</td>\n",
       "    </tr>\n",
       "  </tbody>\n",
       "</table>\n",
       "</div>"
      ],
      "text/plain": [
       "   movie_id                                     title  \\\n",
       "0     19995                                    Avatar   \n",
       "1       285  Pirates of the Caribbean: At World's End   \n",
       "2    206647                                   Spectre   \n",
       "3     49026                     The Dark Knight Rises   \n",
       "4     49529                               John Carter   \n",
       "\n",
       "                                                cast  \\\n",
       "0  [{\"cast_id\": 242, \"character\": \"Jake Sully\", \"...   \n",
       "1  [{\"cast_id\": 4, \"character\": \"Captain Jack Spa...   \n",
       "2  [{\"cast_id\": 1, \"character\": \"James Bond\", \"cr...   \n",
       "3  [{\"cast_id\": 2, \"character\": \"Bruce Wayne / Ba...   \n",
       "4  [{\"cast_id\": 5, \"character\": \"John Carter\", \"c...   \n",
       "\n",
       "                                                crew  \n",
       "0  [{\"credit_id\": \"52fe48009251416c750aca23\", \"de...  \n",
       "1  [{\"credit_id\": \"52fe4232c3a36847f800b579\", \"de...  \n",
       "2  [{\"credit_id\": \"54805967c3a36829b5002c41\", \"de...  \n",
       "3  [{\"credit_id\": \"52fe4781c3a36847f81398c3\", \"de...  \n",
       "4  [{\"credit_id\": \"52fe479ac3a36847f813eaa3\", \"de...  "
      ]
     },
     "execution_count": 5,
     "metadata": {},
     "output_type": "execute_result"
    }
   ],
   "source": [
    "credits.head()"
   ]
  },
  {
   "cell_type": "code",
   "execution_count": 6,
   "id": "ebe8a9e6",
   "metadata": {},
   "outputs": [
    {
     "name": "stdout",
     "output_type": "stream",
     "text": [
      "<class 'pandas.core.frame.DataFrame'>\n",
      "RangeIndex: 4803 entries, 0 to 4802\n",
      "Data columns (total 4 columns):\n",
      " #   Column    Non-Null Count  Dtype \n",
      "---  ------    --------------  ----- \n",
      " 0   movie_id  4803 non-null   int64 \n",
      " 1   title     4803 non-null   object\n",
      " 2   cast      4803 non-null   object\n",
      " 3   crew      4803 non-null   object\n",
      "dtypes: int64(1), object(3)\n",
      "memory usage: 150.2+ KB\n"
     ]
    }
   ],
   "source": [
    "credits.info()"
   ]
  },
  {
   "cell_type": "code",
   "execution_count": 7,
   "id": "7659d0c7",
   "metadata": {},
   "outputs": [],
   "source": [
    "# merge them according to title\n",
    "movies_all = pd.merge(movies, credits, on='title')"
   ]
  },
  {
   "cell_type": "code",
   "execution_count": 8,
   "id": "dcf5116a",
   "metadata": {},
   "outputs": [
    {
     "data": {
      "text/html": [
       "<div>\n",
       "<style scoped>\n",
       "    .dataframe tbody tr th:only-of-type {\n",
       "        vertical-align: middle;\n",
       "    }\n",
       "\n",
       "    .dataframe tbody tr th {\n",
       "        vertical-align: top;\n",
       "    }\n",
       "\n",
       "    .dataframe thead th {\n",
       "        text-align: right;\n",
       "    }\n",
       "</style>\n",
       "<table border=\"1\" class=\"dataframe\">\n",
       "  <thead>\n",
       "    <tr style=\"text-align: right;\">\n",
       "      <th></th>\n",
       "      <th>budget</th>\n",
       "      <th>genres</th>\n",
       "      <th>homepage</th>\n",
       "      <th>id</th>\n",
       "      <th>keywords</th>\n",
       "      <th>original_language</th>\n",
       "      <th>original_title</th>\n",
       "      <th>overview</th>\n",
       "      <th>popularity</th>\n",
       "      <th>production_companies</th>\n",
       "      <th>...</th>\n",
       "      <th>runtime</th>\n",
       "      <th>spoken_languages</th>\n",
       "      <th>status</th>\n",
       "      <th>tagline</th>\n",
       "      <th>title</th>\n",
       "      <th>vote_average</th>\n",
       "      <th>vote_count</th>\n",
       "      <th>movie_id</th>\n",
       "      <th>cast</th>\n",
       "      <th>crew</th>\n",
       "    </tr>\n",
       "  </thead>\n",
       "  <tbody>\n",
       "    <tr>\n",
       "      <th>0</th>\n",
       "      <td>237000000</td>\n",
       "      <td>[{\"id\": 28, \"name\": \"Action\"}, {\"id\": 12, \"nam...</td>\n",
       "      <td>http://www.avatarmovie.com/</td>\n",
       "      <td>19995</td>\n",
       "      <td>[{\"id\": 1463, \"name\": \"culture clash\"}, {\"id\":...</td>\n",
       "      <td>en</td>\n",
       "      <td>Avatar</td>\n",
       "      <td>In the 22nd century, a paraplegic Marine is di...</td>\n",
       "      <td>150.437577</td>\n",
       "      <td>[{\"name\": \"Ingenious Film Partners\", \"id\": 289...</td>\n",
       "      <td>...</td>\n",
       "      <td>162.0</td>\n",
       "      <td>[{\"iso_639_1\": \"en\", \"name\": \"English\"}, {\"iso...</td>\n",
       "      <td>Released</td>\n",
       "      <td>Enter the World of Pandora.</td>\n",
       "      <td>Avatar</td>\n",
       "      <td>7.2</td>\n",
       "      <td>11800</td>\n",
       "      <td>19995</td>\n",
       "      <td>[{\"cast_id\": 242, \"character\": \"Jake Sully\", \"...</td>\n",
       "      <td>[{\"credit_id\": \"52fe48009251416c750aca23\", \"de...</td>\n",
       "    </tr>\n",
       "    <tr>\n",
       "      <th>1</th>\n",
       "      <td>300000000</td>\n",
       "      <td>[{\"id\": 12, \"name\": \"Adventure\"}, {\"id\": 14, \"...</td>\n",
       "      <td>http://disney.go.com/disneypictures/pirates/</td>\n",
       "      <td>285</td>\n",
       "      <td>[{\"id\": 270, \"name\": \"ocean\"}, {\"id\": 726, \"na...</td>\n",
       "      <td>en</td>\n",
       "      <td>Pirates of the Caribbean: At World's End</td>\n",
       "      <td>Captain Barbossa, long believed to be dead, ha...</td>\n",
       "      <td>139.082615</td>\n",
       "      <td>[{\"name\": \"Walt Disney Pictures\", \"id\": 2}, {\"...</td>\n",
       "      <td>...</td>\n",
       "      <td>169.0</td>\n",
       "      <td>[{\"iso_639_1\": \"en\", \"name\": \"English\"}]</td>\n",
       "      <td>Released</td>\n",
       "      <td>At the end of the world, the adventure begins.</td>\n",
       "      <td>Pirates of the Caribbean: At World's End</td>\n",
       "      <td>6.9</td>\n",
       "      <td>4500</td>\n",
       "      <td>285</td>\n",
       "      <td>[{\"cast_id\": 4, \"character\": \"Captain Jack Spa...</td>\n",
       "      <td>[{\"credit_id\": \"52fe4232c3a36847f800b579\", \"de...</td>\n",
       "    </tr>\n",
       "    <tr>\n",
       "      <th>2</th>\n",
       "      <td>245000000</td>\n",
       "      <td>[{\"id\": 28, \"name\": \"Action\"}, {\"id\": 12, \"nam...</td>\n",
       "      <td>http://www.sonypictures.com/movies/spectre/</td>\n",
       "      <td>206647</td>\n",
       "      <td>[{\"id\": 470, \"name\": \"spy\"}, {\"id\": 818, \"name...</td>\n",
       "      <td>en</td>\n",
       "      <td>Spectre</td>\n",
       "      <td>A cryptic message from Bond’s past sends him o...</td>\n",
       "      <td>107.376788</td>\n",
       "      <td>[{\"name\": \"Columbia Pictures\", \"id\": 5}, {\"nam...</td>\n",
       "      <td>...</td>\n",
       "      <td>148.0</td>\n",
       "      <td>[{\"iso_639_1\": \"fr\", \"name\": \"Fran\\u00e7ais\"},...</td>\n",
       "      <td>Released</td>\n",
       "      <td>A Plan No One Escapes</td>\n",
       "      <td>Spectre</td>\n",
       "      <td>6.3</td>\n",
       "      <td>4466</td>\n",
       "      <td>206647</td>\n",
       "      <td>[{\"cast_id\": 1, \"character\": \"James Bond\", \"cr...</td>\n",
       "      <td>[{\"credit_id\": \"54805967c3a36829b5002c41\", \"de...</td>\n",
       "    </tr>\n",
       "    <tr>\n",
       "      <th>3</th>\n",
       "      <td>250000000</td>\n",
       "      <td>[{\"id\": 28, \"name\": \"Action\"}, {\"id\": 80, \"nam...</td>\n",
       "      <td>http://www.thedarkknightrises.com/</td>\n",
       "      <td>49026</td>\n",
       "      <td>[{\"id\": 849, \"name\": \"dc comics\"}, {\"id\": 853,...</td>\n",
       "      <td>en</td>\n",
       "      <td>The Dark Knight Rises</td>\n",
       "      <td>Following the death of District Attorney Harve...</td>\n",
       "      <td>112.312950</td>\n",
       "      <td>[{\"name\": \"Legendary Pictures\", \"id\": 923}, {\"...</td>\n",
       "      <td>...</td>\n",
       "      <td>165.0</td>\n",
       "      <td>[{\"iso_639_1\": \"en\", \"name\": \"English\"}]</td>\n",
       "      <td>Released</td>\n",
       "      <td>The Legend Ends</td>\n",
       "      <td>The Dark Knight Rises</td>\n",
       "      <td>7.6</td>\n",
       "      <td>9106</td>\n",
       "      <td>49026</td>\n",
       "      <td>[{\"cast_id\": 2, \"character\": \"Bruce Wayne / Ba...</td>\n",
       "      <td>[{\"credit_id\": \"52fe4781c3a36847f81398c3\", \"de...</td>\n",
       "    </tr>\n",
       "    <tr>\n",
       "      <th>4</th>\n",
       "      <td>260000000</td>\n",
       "      <td>[{\"id\": 28, \"name\": \"Action\"}, {\"id\": 12, \"nam...</td>\n",
       "      <td>http://movies.disney.com/john-carter</td>\n",
       "      <td>49529</td>\n",
       "      <td>[{\"id\": 818, \"name\": \"based on novel\"}, {\"id\":...</td>\n",
       "      <td>en</td>\n",
       "      <td>John Carter</td>\n",
       "      <td>John Carter is a war-weary, former military ca...</td>\n",
       "      <td>43.926995</td>\n",
       "      <td>[{\"name\": \"Walt Disney Pictures\", \"id\": 2}]</td>\n",
       "      <td>...</td>\n",
       "      <td>132.0</td>\n",
       "      <td>[{\"iso_639_1\": \"en\", \"name\": \"English\"}]</td>\n",
       "      <td>Released</td>\n",
       "      <td>Lost in our world, found in another.</td>\n",
       "      <td>John Carter</td>\n",
       "      <td>6.1</td>\n",
       "      <td>2124</td>\n",
       "      <td>49529</td>\n",
       "      <td>[{\"cast_id\": 5, \"character\": \"John Carter\", \"c...</td>\n",
       "      <td>[{\"credit_id\": \"52fe479ac3a36847f813eaa3\", \"de...</td>\n",
       "    </tr>\n",
       "  </tbody>\n",
       "</table>\n",
       "<p>5 rows × 23 columns</p>\n",
       "</div>"
      ],
      "text/plain": [
       "      budget                                             genres  \\\n",
       "0  237000000  [{\"id\": 28, \"name\": \"Action\"}, {\"id\": 12, \"nam...   \n",
       "1  300000000  [{\"id\": 12, \"name\": \"Adventure\"}, {\"id\": 14, \"...   \n",
       "2  245000000  [{\"id\": 28, \"name\": \"Action\"}, {\"id\": 12, \"nam...   \n",
       "3  250000000  [{\"id\": 28, \"name\": \"Action\"}, {\"id\": 80, \"nam...   \n",
       "4  260000000  [{\"id\": 28, \"name\": \"Action\"}, {\"id\": 12, \"nam...   \n",
       "\n",
       "                                       homepage      id  \\\n",
       "0                   http://www.avatarmovie.com/   19995   \n",
       "1  http://disney.go.com/disneypictures/pirates/     285   \n",
       "2   http://www.sonypictures.com/movies/spectre/  206647   \n",
       "3            http://www.thedarkknightrises.com/   49026   \n",
       "4          http://movies.disney.com/john-carter   49529   \n",
       "\n",
       "                                            keywords original_language  \\\n",
       "0  [{\"id\": 1463, \"name\": \"culture clash\"}, {\"id\":...                en   \n",
       "1  [{\"id\": 270, \"name\": \"ocean\"}, {\"id\": 726, \"na...                en   \n",
       "2  [{\"id\": 470, \"name\": \"spy\"}, {\"id\": 818, \"name...                en   \n",
       "3  [{\"id\": 849, \"name\": \"dc comics\"}, {\"id\": 853,...                en   \n",
       "4  [{\"id\": 818, \"name\": \"based on novel\"}, {\"id\":...                en   \n",
       "\n",
       "                             original_title  \\\n",
       "0                                    Avatar   \n",
       "1  Pirates of the Caribbean: At World's End   \n",
       "2                                   Spectre   \n",
       "3                     The Dark Knight Rises   \n",
       "4                               John Carter   \n",
       "\n",
       "                                            overview  popularity  \\\n",
       "0  In the 22nd century, a paraplegic Marine is di...  150.437577   \n",
       "1  Captain Barbossa, long believed to be dead, ha...  139.082615   \n",
       "2  A cryptic message from Bond’s past sends him o...  107.376788   \n",
       "3  Following the death of District Attorney Harve...  112.312950   \n",
       "4  John Carter is a war-weary, former military ca...   43.926995   \n",
       "\n",
       "                                production_companies  ... runtime  \\\n",
       "0  [{\"name\": \"Ingenious Film Partners\", \"id\": 289...  ...   162.0   \n",
       "1  [{\"name\": \"Walt Disney Pictures\", \"id\": 2}, {\"...  ...   169.0   \n",
       "2  [{\"name\": \"Columbia Pictures\", \"id\": 5}, {\"nam...  ...   148.0   \n",
       "3  [{\"name\": \"Legendary Pictures\", \"id\": 923}, {\"...  ...   165.0   \n",
       "4        [{\"name\": \"Walt Disney Pictures\", \"id\": 2}]  ...   132.0   \n",
       "\n",
       "                                    spoken_languages    status  \\\n",
       "0  [{\"iso_639_1\": \"en\", \"name\": \"English\"}, {\"iso...  Released   \n",
       "1           [{\"iso_639_1\": \"en\", \"name\": \"English\"}]  Released   \n",
       "2  [{\"iso_639_1\": \"fr\", \"name\": \"Fran\\u00e7ais\"},...  Released   \n",
       "3           [{\"iso_639_1\": \"en\", \"name\": \"English\"}]  Released   \n",
       "4           [{\"iso_639_1\": \"en\", \"name\": \"English\"}]  Released   \n",
       "\n",
       "                                          tagline  \\\n",
       "0                     Enter the World of Pandora.   \n",
       "1  At the end of the world, the adventure begins.   \n",
       "2                           A Plan No One Escapes   \n",
       "3                                 The Legend Ends   \n",
       "4            Lost in our world, found in another.   \n",
       "\n",
       "                                      title vote_average vote_count movie_id  \\\n",
       "0                                    Avatar          7.2      11800    19995   \n",
       "1  Pirates of the Caribbean: At World's End          6.9       4500      285   \n",
       "2                                   Spectre          6.3       4466   206647   \n",
       "3                     The Dark Knight Rises          7.6       9106    49026   \n",
       "4                               John Carter          6.1       2124    49529   \n",
       "\n",
       "                                                cast  \\\n",
       "0  [{\"cast_id\": 242, \"character\": \"Jake Sully\", \"...   \n",
       "1  [{\"cast_id\": 4, \"character\": \"Captain Jack Spa...   \n",
       "2  [{\"cast_id\": 1, \"character\": \"James Bond\", \"cr...   \n",
       "3  [{\"cast_id\": 2, \"character\": \"Bruce Wayne / Ba...   \n",
       "4  [{\"cast_id\": 5, \"character\": \"John Carter\", \"c...   \n",
       "\n",
       "                                                crew  \n",
       "0  [{\"credit_id\": \"52fe48009251416c750aca23\", \"de...  \n",
       "1  [{\"credit_id\": \"52fe4232c3a36847f800b579\", \"de...  \n",
       "2  [{\"credit_id\": \"54805967c3a36829b5002c41\", \"de...  \n",
       "3  [{\"credit_id\": \"52fe4781c3a36847f81398c3\", \"de...  \n",
       "4  [{\"credit_id\": \"52fe479ac3a36847f813eaa3\", \"de...  \n",
       "\n",
       "[5 rows x 23 columns]"
      ]
     },
     "execution_count": 8,
     "metadata": {},
     "output_type": "execute_result"
    }
   ],
   "source": [
    "movies_all.head()\n"
   ]
  },
  {
   "cell_type": "markdown",
   "id": "3a32a43e",
   "metadata": {},
   "source": [
    "# Initial Cleaning"
   ]
  },
  {
   "cell_type": "code",
   "execution_count": 9,
   "id": "6fc34027",
   "metadata": {},
   "outputs": [],
   "source": [
    "\n",
    "# Remove rows where 'release_date' is missing since it's crucial for feature engineering\n",
    "movies_all = movies_all.dropna(subset=['release_date'])\n",
    "\n",
    "# You can drop other rows with too many missing values or irrelevant columns\n",
    "# Example: Drop rows where important categorical features are missing\n",
    "movies_all = movies_all.dropna(subset=['genres', 'cast', 'crew'])\n",
    "\n",
    "# Drop columns that are not useful for recommendation\n",
    "movies_all = movies_all.drop(columns=['homepage', 'status', 'tagline', 'overview'])\n"
   ]
  },
  {
   "cell_type": "code",
   "execution_count": 10,
   "id": "a5759070",
   "metadata": {},
   "outputs": [
    {
     "name": "stdout",
     "output_type": "stream",
     "text": [
      "<class 'pandas.core.frame.DataFrame'>\n",
      "Int64Index: 4808 entries, 0 to 4808\n",
      "Data columns (total 19 columns):\n",
      " #   Column                Non-Null Count  Dtype  \n",
      "---  ------                --------------  -----  \n",
      " 0   budget                4808 non-null   int64  \n",
      " 1   genres                4808 non-null   object \n",
      " 2   id                    4808 non-null   int64  \n",
      " 3   keywords              4808 non-null   object \n",
      " 4   original_language     4808 non-null   object \n",
      " 5   original_title        4808 non-null   object \n",
      " 6   popularity            4808 non-null   float64\n",
      " 7   production_companies  4808 non-null   object \n",
      " 8   production_countries  4808 non-null   object \n",
      " 9   release_date          4808 non-null   object \n",
      " 10  revenue               4808 non-null   int64  \n",
      " 11  runtime               4806 non-null   float64\n",
      " 12  spoken_languages      4808 non-null   object \n",
      " 13  title                 4808 non-null   object \n",
      " 14  vote_average          4808 non-null   float64\n",
      " 15  vote_count            4808 non-null   int64  \n",
      " 16  movie_id              4808 non-null   int64  \n",
      " 17  cast                  4808 non-null   object \n",
      " 18  crew                  4808 non-null   object \n",
      "dtypes: float64(3), int64(5), object(11)\n",
      "memory usage: 751.2+ KB\n"
     ]
    }
   ],
   "source": [
    "# check the dataframe \n",
    "movies_all.info()"
   ]
  },
  {
   "cell_type": "markdown",
   "id": "3e93a479",
   "metadata": {},
   "source": [
    "## Feature Engineering"
   ]
  },
  {
   "cell_type": "code",
   "execution_count": 15,
   "id": "27783354",
   "metadata": {},
   "outputs": [],
   "source": [
    "\n",
    "# Extracting year from release_date\n",
    "movies_all['release_year'] = pd.to_datetime(movies_all['release_date']).dt.year\n",
    "\n",
    "# Extracting the main genre from the genres column\n",
    "def get_main_genre(genres):\n",
    "    try:\n",
    "        genres_list = ast.literal_eval(genres)\n",
    "        if genres_list:\n",
    "            return genres_list[0]['name']\n",
    "    except:\n",
    "        return None\n",
    "\n",
    "movies_all['main_genre'] = movies_all['genres'].apply(get_main_genre)\n",
    "\n",
    "# Preprocess Cast and Crew\n",
    "def get_top_cast(cast, top_n=3):\n",
    "    try:\n",
    "        cast = ast.literal_eval(cast)\n",
    "        return [member['name'] for member in cast[:top_n]]\n",
    "    except:\n",
    "        return []\n",
    "\n",
    "def get_director(crew):\n",
    "    try:\n",
    "        crew = ast.literal_eval(crew)\n",
    "        for member in crew:\n",
    "            if member['job'] == 'Director':\n",
    "                return member['name']\n",
    "        return ''\n",
    "    except:\n",
    "        return ''\n",
    "\n",
    "movies_all['top_cast'] = movies_all['cast'].apply(get_top_cast)\n",
    "movies_all['director'] = movies_all['crew'].apply(get_director)\n",
    "\n"
   ]
  },
  {
   "cell_type": "code",
   "execution_count": 16,
   "id": "f9fffc7f",
   "metadata": {},
   "outputs": [],
   "source": [
    "\n",
    "# Flatten the 'top_cast' list for preprocessing\n",
    "movies_all['top_cast'] = movies_all['top_cast'].apply(lambda x: ' '.join(x))\n",
    "\n",
    "# Update numerical and categorical columns\n",
    "numerical_cols = ['popularity', 'vote_average', 'vote_count', 'release_year']\n",
    "categorical_cols = ['main_genre', 'top_cast', 'director']\n",
    "\n",
    "# Ensure correct data types for numerical columns\n",
    "for col in numerical_cols:\n",
    "    movies_all[col] = pd.to_numeric(movies_all[col], errors='coerce')\n"
   ]
  },
  {
   "cell_type": "markdown",
   "id": "a9d1a3ae",
   "metadata": {},
   "source": [
    "# Data Preprocessing \n",
    "    "
   ]
  },
  {
   "cell_type": "code",
   "execution_count": 18,
   "id": "a84fe918",
   "metadata": {},
   "outputs": [
    {
     "data": {
      "text/html": [
       "<style>#sk-container-id-1 {color: black;}#sk-container-id-1 pre{padding: 0;}#sk-container-id-1 div.sk-toggleable {background-color: white;}#sk-container-id-1 label.sk-toggleable__label {cursor: pointer;display: block;width: 100%;margin-bottom: 0;padding: 0.3em;box-sizing: border-box;text-align: center;}#sk-container-id-1 label.sk-toggleable__label-arrow:before {content: \"▸\";float: left;margin-right: 0.25em;color: #696969;}#sk-container-id-1 label.sk-toggleable__label-arrow:hover:before {color: black;}#sk-container-id-1 div.sk-estimator:hover label.sk-toggleable__label-arrow:before {color: black;}#sk-container-id-1 div.sk-toggleable__content {max-height: 0;max-width: 0;overflow: hidden;text-align: left;background-color: #f0f8ff;}#sk-container-id-1 div.sk-toggleable__content pre {margin: 0.2em;color: black;border-radius: 0.25em;background-color: #f0f8ff;}#sk-container-id-1 input.sk-toggleable__control:checked~div.sk-toggleable__content {max-height: 200px;max-width: 100%;overflow: auto;}#sk-container-id-1 input.sk-toggleable__control:checked~label.sk-toggleable__label-arrow:before {content: \"▾\";}#sk-container-id-1 div.sk-estimator input.sk-toggleable__control:checked~label.sk-toggleable__label {background-color: #d4ebff;}#sk-container-id-1 div.sk-label input.sk-toggleable__control:checked~label.sk-toggleable__label {background-color: #d4ebff;}#sk-container-id-1 input.sk-hidden--visually {border: 0;clip: rect(1px 1px 1px 1px);clip: rect(1px, 1px, 1px, 1px);height: 1px;margin: -1px;overflow: hidden;padding: 0;position: absolute;width: 1px;}#sk-container-id-1 div.sk-estimator {font-family: monospace;background-color: #f0f8ff;border: 1px dotted black;border-radius: 0.25em;box-sizing: border-box;margin-bottom: 0.5em;}#sk-container-id-1 div.sk-estimator:hover {background-color: #d4ebff;}#sk-container-id-1 div.sk-parallel-item::after {content: \"\";width: 100%;border-bottom: 1px solid gray;flex-grow: 1;}#sk-container-id-1 div.sk-label:hover label.sk-toggleable__label {background-color: #d4ebff;}#sk-container-id-1 div.sk-serial::before {content: \"\";position: absolute;border-left: 1px solid gray;box-sizing: border-box;top: 0;bottom: 0;left: 50%;z-index: 0;}#sk-container-id-1 div.sk-serial {display: flex;flex-direction: column;align-items: center;background-color: white;padding-right: 0.2em;padding-left: 0.2em;position: relative;}#sk-container-id-1 div.sk-item {position: relative;z-index: 1;}#sk-container-id-1 div.sk-parallel {display: flex;align-items: stretch;justify-content: center;background-color: white;position: relative;}#sk-container-id-1 div.sk-item::before, #sk-container-id-1 div.sk-parallel-item::before {content: \"\";position: absolute;border-left: 1px solid gray;box-sizing: border-box;top: 0;bottom: 0;left: 50%;z-index: -1;}#sk-container-id-1 div.sk-parallel-item {display: flex;flex-direction: column;z-index: 1;position: relative;background-color: white;}#sk-container-id-1 div.sk-parallel-item:first-child::after {align-self: flex-end;width: 50%;}#sk-container-id-1 div.sk-parallel-item:last-child::after {align-self: flex-start;width: 50%;}#sk-container-id-1 div.sk-parallel-item:only-child::after {width: 0;}#sk-container-id-1 div.sk-dashed-wrapped {border: 1px dashed gray;margin: 0 0.4em 0.5em 0.4em;box-sizing: border-box;padding-bottom: 0.4em;background-color: white;}#sk-container-id-1 div.sk-label label {font-family: monospace;font-weight: bold;display: inline-block;line-height: 1.2em;}#sk-container-id-1 div.sk-label-container {text-align: center;}#sk-container-id-1 div.sk-container {/* jupyter's `normalize.less` sets `[hidden] { display: none; }` but bootstrap.min.css set `[hidden] { display: none !important; }` so we also need the `!important` here to be able to override the default hidden behavior on the sphinx rendered scikit-learn.org. See: https://github.com/scikit-learn/scikit-learn/issues/21755 */display: inline-block !important;position: relative;}#sk-container-id-1 div.sk-text-repr-fallback {display: none;}</style><div id=\"sk-container-id-1\" class=\"sk-top-container\"><div class=\"sk-text-repr-fallback\"><pre>Pipeline(steps=[(&#x27;preprocessor&#x27;,\n",
       "                 ColumnTransformer(transformers=[(&#x27;num&#x27;,\n",
       "                                                  Pipeline(steps=[(&#x27;imputer&#x27;,\n",
       "                                                                   SimpleImputer()),\n",
       "                                                                  (&#x27;scaler&#x27;,\n",
       "                                                                   StandardScaler())]),\n",
       "                                                  [&#x27;popularity&#x27;, &#x27;vote_average&#x27;,\n",
       "                                                   &#x27;vote_count&#x27;,\n",
       "                                                   &#x27;release_year&#x27;]),\n",
       "                                                 (&#x27;cat&#x27;,\n",
       "                                                  Pipeline(steps=[(&#x27;imputer&#x27;,\n",
       "                                                                   SimpleImputer(strategy=&#x27;most_frequent&#x27;)),\n",
       "                                                                  (&#x27;onehot&#x27;,\n",
       "                                                                   OneHotEncoder(handle_unknown=&#x27;ignore&#x27;))]),\n",
       "                                                  [&#x27;main_genre&#x27;, &#x27;top_cast&#x27;,\n",
       "                                                   &#x27;director&#x27;])])),\n",
       "                (&#x27;knn&#x27;, NearestNeighbors(metric=&#x27;cosine&#x27;))])</pre><b>In a Jupyter environment, please rerun this cell to show the HTML representation or trust the notebook. <br />On GitHub, the HTML representation is unable to render, please try loading this page with nbviewer.org.</b></div><div class=\"sk-container\" hidden><div class=\"sk-item sk-dashed-wrapped\"><div class=\"sk-label-container\"><div class=\"sk-label sk-toggleable\"><input class=\"sk-toggleable__control sk-hidden--visually\" id=\"sk-estimator-id-1\" type=\"checkbox\" ><label for=\"sk-estimator-id-1\" class=\"sk-toggleable__label sk-toggleable__label-arrow\">Pipeline</label><div class=\"sk-toggleable__content\"><pre>Pipeline(steps=[(&#x27;preprocessor&#x27;,\n",
       "                 ColumnTransformer(transformers=[(&#x27;num&#x27;,\n",
       "                                                  Pipeline(steps=[(&#x27;imputer&#x27;,\n",
       "                                                                   SimpleImputer()),\n",
       "                                                                  (&#x27;scaler&#x27;,\n",
       "                                                                   StandardScaler())]),\n",
       "                                                  [&#x27;popularity&#x27;, &#x27;vote_average&#x27;,\n",
       "                                                   &#x27;vote_count&#x27;,\n",
       "                                                   &#x27;release_year&#x27;]),\n",
       "                                                 (&#x27;cat&#x27;,\n",
       "                                                  Pipeline(steps=[(&#x27;imputer&#x27;,\n",
       "                                                                   SimpleImputer(strategy=&#x27;most_frequent&#x27;)),\n",
       "                                                                  (&#x27;onehot&#x27;,\n",
       "                                                                   OneHotEncoder(handle_unknown=&#x27;ignore&#x27;))]),\n",
       "                                                  [&#x27;main_genre&#x27;, &#x27;top_cast&#x27;,\n",
       "                                                   &#x27;director&#x27;])])),\n",
       "                (&#x27;knn&#x27;, NearestNeighbors(metric=&#x27;cosine&#x27;))])</pre></div></div></div><div class=\"sk-serial\"><div class=\"sk-item sk-dashed-wrapped\"><div class=\"sk-label-container\"><div class=\"sk-label sk-toggleable\"><input class=\"sk-toggleable__control sk-hidden--visually\" id=\"sk-estimator-id-2\" type=\"checkbox\" ><label for=\"sk-estimator-id-2\" class=\"sk-toggleable__label sk-toggleable__label-arrow\">preprocessor: ColumnTransformer</label><div class=\"sk-toggleable__content\"><pre>ColumnTransformer(transformers=[(&#x27;num&#x27;,\n",
       "                                 Pipeline(steps=[(&#x27;imputer&#x27;, SimpleImputer()),\n",
       "                                                 (&#x27;scaler&#x27;, StandardScaler())]),\n",
       "                                 [&#x27;popularity&#x27;, &#x27;vote_average&#x27;, &#x27;vote_count&#x27;,\n",
       "                                  &#x27;release_year&#x27;]),\n",
       "                                (&#x27;cat&#x27;,\n",
       "                                 Pipeline(steps=[(&#x27;imputer&#x27;,\n",
       "                                                  SimpleImputer(strategy=&#x27;most_frequent&#x27;)),\n",
       "                                                 (&#x27;onehot&#x27;,\n",
       "                                                  OneHotEncoder(handle_unknown=&#x27;ignore&#x27;))]),\n",
       "                                 [&#x27;main_genre&#x27;, &#x27;top_cast&#x27;, &#x27;director&#x27;])])</pre></div></div></div><div class=\"sk-parallel\"><div class=\"sk-parallel-item\"><div class=\"sk-item\"><div class=\"sk-label-container\"><div class=\"sk-label sk-toggleable\"><input class=\"sk-toggleable__control sk-hidden--visually\" id=\"sk-estimator-id-3\" type=\"checkbox\" ><label for=\"sk-estimator-id-3\" class=\"sk-toggleable__label sk-toggleable__label-arrow\">num</label><div class=\"sk-toggleable__content\"><pre>[&#x27;popularity&#x27;, &#x27;vote_average&#x27;, &#x27;vote_count&#x27;, &#x27;release_year&#x27;]</pre></div></div></div><div class=\"sk-serial\"><div class=\"sk-item\"><div class=\"sk-serial\"><div class=\"sk-item\"><div class=\"sk-estimator sk-toggleable\"><input class=\"sk-toggleable__control sk-hidden--visually\" id=\"sk-estimator-id-4\" type=\"checkbox\" ><label for=\"sk-estimator-id-4\" class=\"sk-toggleable__label sk-toggleable__label-arrow\">SimpleImputer</label><div class=\"sk-toggleable__content\"><pre>SimpleImputer()</pre></div></div></div><div class=\"sk-item\"><div class=\"sk-estimator sk-toggleable\"><input class=\"sk-toggleable__control sk-hidden--visually\" id=\"sk-estimator-id-5\" type=\"checkbox\" ><label for=\"sk-estimator-id-5\" class=\"sk-toggleable__label sk-toggleable__label-arrow\">StandardScaler</label><div class=\"sk-toggleable__content\"><pre>StandardScaler()</pre></div></div></div></div></div></div></div></div><div class=\"sk-parallel-item\"><div class=\"sk-item\"><div class=\"sk-label-container\"><div class=\"sk-label sk-toggleable\"><input class=\"sk-toggleable__control sk-hidden--visually\" id=\"sk-estimator-id-6\" type=\"checkbox\" ><label for=\"sk-estimator-id-6\" class=\"sk-toggleable__label sk-toggleable__label-arrow\">cat</label><div class=\"sk-toggleable__content\"><pre>[&#x27;main_genre&#x27;, &#x27;top_cast&#x27;, &#x27;director&#x27;]</pre></div></div></div><div class=\"sk-serial\"><div class=\"sk-item\"><div class=\"sk-serial\"><div class=\"sk-item\"><div class=\"sk-estimator sk-toggleable\"><input class=\"sk-toggleable__control sk-hidden--visually\" id=\"sk-estimator-id-7\" type=\"checkbox\" ><label for=\"sk-estimator-id-7\" class=\"sk-toggleable__label sk-toggleable__label-arrow\">SimpleImputer</label><div class=\"sk-toggleable__content\"><pre>SimpleImputer(strategy=&#x27;most_frequent&#x27;)</pre></div></div></div><div class=\"sk-item\"><div class=\"sk-estimator sk-toggleable\"><input class=\"sk-toggleable__control sk-hidden--visually\" id=\"sk-estimator-id-8\" type=\"checkbox\" ><label for=\"sk-estimator-id-8\" class=\"sk-toggleable__label sk-toggleable__label-arrow\">OneHotEncoder</label><div class=\"sk-toggleable__content\"><pre>OneHotEncoder(handle_unknown=&#x27;ignore&#x27;)</pre></div></div></div></div></div></div></div></div></div></div><div class=\"sk-item\"><div class=\"sk-estimator sk-toggleable\"><input class=\"sk-toggleable__control sk-hidden--visually\" id=\"sk-estimator-id-9\" type=\"checkbox\" ><label for=\"sk-estimator-id-9\" class=\"sk-toggleable__label sk-toggleable__label-arrow\">NearestNeighbors</label><div class=\"sk-toggleable__content\"><pre>NearestNeighbors(metric=&#x27;cosine&#x27;)</pre></div></div></div></div></div></div></div>"
      ],
      "text/plain": [
       "Pipeline(steps=[('preprocessor',\n",
       "                 ColumnTransformer(transformers=[('num',\n",
       "                                                  Pipeline(steps=[('imputer',\n",
       "                                                                   SimpleImputer()),\n",
       "                                                                  ('scaler',\n",
       "                                                                   StandardScaler())]),\n",
       "                                                  ['popularity', 'vote_average',\n",
       "                                                   'vote_count',\n",
       "                                                   'release_year']),\n",
       "                                                 ('cat',\n",
       "                                                  Pipeline(steps=[('imputer',\n",
       "                                                                   SimpleImputer(strategy='most_frequent')),\n",
       "                                                                  ('onehot',\n",
       "                                                                   OneHotEncoder(handle_unknown='ignore'))]),\n",
       "                                                  ['main_genre', 'top_cast',\n",
       "                                                   'director'])])),\n",
       "                ('knn', NearestNeighbors(metric='cosine'))])"
      ]
     },
     "execution_count": 18,
     "metadata": {},
     "output_type": "execute_result"
    }
   ],
   "source": [
    "\n",
    "# Preprocessing for numerical data\n",
    "numerical_transformer = Pipeline(steps=[\n",
    "    ('imputer', SimpleImputer(strategy='mean')),\n",
    "    ('scaler', StandardScaler())\n",
    "])\n",
    "\n",
    "# Preprocessing for categorical data\n",
    "categorical_transformer = Pipeline(steps=[\n",
    "    ('imputer', SimpleImputer(strategy='most_frequent')),\n",
    "    ('onehot', OneHotEncoder(handle_unknown='ignore'))\n",
    "])\n",
    "\n",
    "# Combine preprocessing steps\n",
    "preprocessor = ColumnTransformer(\n",
    "    transformers=[\n",
    "        ('num', numerical_transformer, numerical_cols),\n",
    "        ('cat', categorical_transformer, categorical_cols)\n",
    "    ])\n",
    "\n",
    "# Apply preprocessing\n",
    "movies_features = movies_all[numerical_cols + categorical_cols]\n",
    "\n",
    "# Define the pipeline with preprocessing and KNN\n",
    "pipeline = Pipeline(steps=[\n",
    "    ('preprocessor', preprocessor),\n",
    "    ('knn', NearestNeighbors(n_neighbors=5, metric='cosine'))\n",
    "])\n",
    "\n",
    "# Fit the pipeline directly to the original features\n",
    "pipeline.fit(movies_features)"
   ]
  },
  {
   "cell_type": "markdown",
   "id": "476da7d3",
   "metadata": {},
   "source": [
    "## EDA"
   ]
  },
  {
   "cell_type": "code",
   "execution_count": 19,
   "id": "c2c6800c",
   "metadata": {},
   "outputs": [
    {
     "data": {
      "text/plain": [
       "(1916, 2017)"
      ]
     },
     "execution_count": 19,
     "metadata": {},
     "output_type": "execute_result"
    }
   ],
   "source": [
    "\n",
    "# Calculate the year span\n",
    "min_year = movies_all['release_year'].min()\n",
    "max_year = movies_all['release_year'].max()\n",
    "\n",
    "# Output the year span\n",
    "year_span = (min_year, max_year)\n",
    "year_span\n"
   ]
  },
  {
   "cell_type": "code",
   "execution_count": 20,
   "id": "754ac9f0",
   "metadata": {},
   "outputs": [
    {
     "data": {
      "image/png": "[encoded data removed]",
      "text/plain": [
       "<Figure size 720x288 with 1 Axes>"
      ]
     },
     "metadata": {
      "needs_background": "light"
     },
     "output_type": "display_data"
    },
    {
     "data": {
      "image/png": "[encoded data removed]",
      "text/plain": [
       "<Figure size 720x288 with 1 Axes>"
      ]
     },
     "metadata": {
      "needs_background": "light"
     },
     "output_type": "display_data"
    },
    {
     "data": {
      "image/png": "[encoded data removed]",
      "text/plain": [
       "<Figure size 720x288 with 1 Axes>"
      ]
     },
     "metadata": {
      "needs_background": "light"
     },
     "output_type": "display_data"
    },
    {
     "data": {
      "image/png": "[encoded data removed]",
      "text/plain": [
       "<Figure size 720x288 with 1 Axes>"
      ]
     },
     "metadata": {
      "needs_background": "light"
     },
     "output_type": "display_data"
    }
   ],
   "source": [
    "\n",
    "# EDA\n",
    "# Numerical columns distribution\n",
    "for col in numerical_cols:\n",
    "    plt.figure(figsize=(10, 4))\n",
    "    sns.histplot(movies_all[col].dropna(), kde=True)\n",
    "    plt.title(f'Distribution of {col}')\n",
    "    plt.show()\n"
   ]
  },
  {
   "cell_type": "code",
   "execution_count": 21,
   "id": "494f9323",
   "metadata": {
    "scrolled": true
   },
   "outputs": [
    {
     "data": {
      "image/png": "[encoded data removed]",
      "text/plain": [
       "<Figure size 720x432 with 1 Axes>"
      ]
     },
     "metadata": {
      "needs_background": "light"
     },
     "output_type": "display_data"
    }
   ],
   "source": [
    "# Plot the popularity vs vote average\n",
    "plt.figure(figsize=(10, 6))\n",
    "sns.scatterplot(x='popularity', y='vote_average', data=movies_all)\n",
    "plt.title('Popularity vs Vote Average')\n",
    "plt.show()"
   ]
  },
  {
   "cell_type": "markdown",
   "id": "b3935507",
   "metadata": {},
   "source": [
    "# Function to get recommendation"
   ]
  },
  {
   "cell_type": "code",
   "execution_count": 22,
   "id": "64975b6b",
   "metadata": {},
   "outputs": [
    {
     "name": "stdout",
     "output_type": "stream",
     "text": [
      "96                Inception\n",
      "0                    Avatar\n",
      "68                 Iron Man\n",
      "3     The Dark Knight Rises\n",
      "Name: title, dtype: object\n"
     ]
    }
   ],
   "source": [
    "# Function to get similar movies\n",
    "def recommend_movie(movie_title, n_neighbors=5):\n",
    "    # Handle case where movie is not found\n",
    "    if movie_title not in movies_all['title'].values:\n",
    "        return f\"Movie '{movie_title}' not found in the dataset.\"\n",
    "\n",
    "    # Get the index of the movie\n",
    "    movie_idx = movies_all[movies_all['title'] == movie_title].index[0]\n",
    "    \n",
    "    # Extract the movie data as a DataFrame\n",
    "    movie_data = movies_features.iloc[movie_idx].to_frame().T\n",
    "    \n",
    "    # Transform the input movie data\n",
    "    movie_data_transformed = pipeline.named_steps['preprocessor'].transform(movie_data)\n",
    "    \n",
    "    # Find similar movies\n",
    "    distances, indices = pipeline.named_steps['knn'].kneighbors(movie_data_transformed)\n",
    "    similar_movie_indices = indices.flatten()\n",
    "    \n",
    "    # Get titles of similar movies\n",
    "    similar_movies = movies_all.iloc[similar_movie_indices]['title']\n",
    "    \n",
    "    # Filter out the input movie from its own recommendations\n",
    "    similar_movies = similar_movies[similar_movies != movie_title]\n",
    "    \n",
    "    return similar_movies\n",
    "\n",
    "# Test the recommender system\n",
    "print(recommend_movie('The Matrix'))"
   ]
  },
  {
   "cell_type": "markdown",
   "id": "555faf62",
   "metadata": {},
   "source": [
    "## Model Evaluation"
   ]
  },
  {
   "cell_type": "code",
   "execution_count": 23,
   "id": "63b944ee",
   "metadata": {},
   "outputs": [
    {
     "name": "stdout",
     "output_type": "stream",
     "text": [
      "Recommendations for The Matrix:\n",
      "96                Inception\n",
      "0                    Avatar\n",
      "68                 Iron Man\n",
      "3     The Dark Knight Rises\n",
      "Name: title, dtype: object\n",
      "\n",
      "\n",
      "Recommendations for Titanic:\n",
      "662                   Fight Club\n",
      "65               The Dark Knight\n",
      "0                         Avatar\n",
      "1887    The Shawshank Redemption\n",
      "Name: title, dtype: object\n",
      "\n",
      "\n",
      "Recommendations for Avatar:\n",
      "96                Inception\n",
      "68                 Iron Man\n",
      "16             The Avengers\n",
      "3     The Dark Knight Rises\n",
      "Name: title, dtype: object\n",
      "\n",
      "\n",
      "Recommendations for Inception:\n",
      "3      The Dark Knight Rises\n",
      "0                     Avatar\n",
      "65           The Dark Knight\n",
      "119            Batman Begins\n",
      "Name: title, dtype: object\n"
     ]
    }
   ],
   "source": [
    "\n",
    "# Evaluate the model by manual inspection\n",
    "test_movies = ['The Matrix', 'Titanic', 'Avatar']\n",
    "for movie in test_movies:\n",
    "    print(f\"Recommendations for {movie}:\")\n",
    "    print(recommend_movie(movie))\n",
    "    print(\"\\n\")\n",
    "\n",
    "# Testing the recommender system with a movie name\n",
    "movie_name = 'Inception'\n",
    "print(f\"Recommendations for {movie_name}:\")\n",
    "print(recommend_movie(movie_name))"
   ]
  },
  {
   "cell_type": "code",
   "execution_count": 24,
   "id": "6ffe7feb",
   "metadata": {},
   "outputs": [
    {
     "name": "stdout",
     "output_type": "stream",
     "text": [
      "Recommendations for The Avengers:\n",
      "96                Inception\n",
      "0                    Avatar\n",
      "65          The Dark Knight\n",
      "3     The Dark Knight Rises\n",
      "Name: title, dtype: object\n"
     ]
    }
   ],
   "source": [
    "movie_name = 'The Avengers'\n",
    "print(f\"Recommendations for {movie_name}:\")\n",
    "print(recommend_movie(movie_name))"
   ]
  },
  {
   "cell_type": "code",
   "execution_count": 25,
   "id": "47f44aa9",
   "metadata": {},
   "outputs": [
    {
     "name": "stdout",
     "output_type": "stream",
     "text": [
      "Recommendations for sherlock Holmes:\n",
      "Movie 'sherlock Holmes' not found in the dataset.\n"
     ]
    }
   ],
   "source": [
    "movie_name = 'sherlock Holmes'\n",
    "print(f\"Recommendations for {movie_name}:\")\n",
    "print(recommend_movie(movie_name))"
   ]
  },
  {
   "cell_type": "code",
   "execution_count": 26,
   "id": "6207a464",
   "metadata": {},
   "outputs": [
    {
     "name": "stdout",
     "output_type": "stream",
     "text": [
      "Recommendations for after:\n",
      "Movie 'after' not found in the dataset.\n"
     ]
    }
   ],
   "source": [
    "movie_name = 'after'\n",
    "print(f\"Recommendations for {movie_name}:\")\n",
    "print(recommend_movie(movie_name))"
   ]
  },
  {
   "cell_type": "code",
   "execution_count": 27,
   "id": "951e13fe",
   "metadata": {},
   "outputs": [
    {
     "name": "stdout",
     "output_type": "stream",
     "text": [
      "Recommendations for The Notebook:\n",
      "2003                                              Her\n",
      "2844                           The Fault in Our Stars\n",
      "1887                         The Shawshank Redemption\n",
      "329     The Lord of the Rings: The Return of the King\n",
      "Name: title, dtype: object\n"
     ]
    }
   ],
   "source": [
    "movie_name = 'The Notebook'\n",
    "print(f\"Recommendations for {movie_name}:\")\n",
    "print(recommend_movie(movie_name))"
   ]
  },
  {
   "cell_type": "code",
   "execution_count": 28,
   "id": "f84166a6",
   "metadata": {},
   "outputs": [
    {
     "name": "stdout",
     "output_type": "stream",
     "text": [
      "Recommendations for Star Wars:\n",
      "1996     The Empire Strikes Back\n",
      "3342               The Godfather\n",
      "2291          Back to the Future\n",
      "1887    The Shawshank Redemption\n",
      "Name: title, dtype: object\n"
     ]
    }
   ],
   "source": [
    "movie_name = 'Star Wars'\n",
    "print(f\"Recommendations for {movie_name}:\")\n",
    "print(recommend_movie(movie_name))"
   ]
  },
  {
   "cell_type": "code",
   "execution_count": 29,
   "id": "72bbdba8",
   "metadata": {},
   "outputs": [
    {
     "name": "stdout",
     "output_type": "stream",
     "text": [
      "Recommendations for Gladiator:\n",
      "119    Batman Begins\n",
      "634       The Matrix\n",
      "96         Inception\n",
      "68          Iron Man\n",
      "Name: title, dtype: object\n"
     ]
    }
   ],
   "source": [
    "movie_name = 'Gladiator'\n",
    "print(f\"Recommendations for {movie_name}:\")\n",
    "print(recommend_movie(movie_name))"
   ]
  },
  {
   "cell_type": "code",
   "execution_count": 30,
   "id": "e0b55e05",
   "metadata": {},
   "outputs": [
    {
     "name": "stdout",
     "output_type": "stream",
     "text": [
      "Recommendations for Rocky:\n",
      "2176                             Psycho\n",
      "2737             The Godfather: Part II\n",
      "4608                       12 Angry Men\n",
      "3726    One Flew Over the Cuckoo's Nest\n",
      "Name: title, dtype: object\n"
     ]
    }
   ],
   "source": [
    "movie_name = 'Rocky'\n",
    "print(f\"Recommendations for {movie_name}:\")\n",
    "print(recommend_movie(movie_name))"
   ]
  },
  {
   "cell_type": "code",
   "execution_count": 31,
   "id": "eac09a8e",
   "metadata": {},
   "outputs": [
    {
     "name": "stdout",
     "output_type": "stream",
     "text": [
      "Recommendations for Shrek:\n",
      "565                                              Shrek 2\n",
      "329        The Lord of the Rings: The Return of the King\n",
      "330                The Lord of the Rings: The Two Towers\n",
      "262    The Lord of the Rings: The Fellowship of the Ring\n",
      "Name: title, dtype: object\n"
     ]
    }
   ],
   "source": [
    "movie_name = 'Shrek'\n",
    "print(f\"Recommendations for {movie_name}:\")\n",
    "print(recommend_movie(movie_name))"
   ]
  },
  {
   "cell_type": "code",
   "execution_count": 32,
   "id": "414fdf05",
   "metadata": {},
   "outputs": [
    {
     "name": "stdout",
     "output_type": "stream",
     "text": [
      "Recommendations for Superman:\n",
      "4541                      Seven Samurai\n",
      "4078              From Russia with Love\n",
      "3993                   The Wizard of Oz\n",
      "4266    Snow White and the Seven Dwarfs\n",
      "Name: title, dtype: object\n"
     ]
    }
   ],
   "source": [
    "movie_name = 'Superman'\n",
    "print(f\"Recommendations for {movie_name}:\")\n",
    "print(recommend_movie(movie_name))"
   ]
  },
  {
   "cell_type": "code",
   "execution_count": 33,
   "id": "b1473f7d",
   "metadata": {},
   "outputs": [
    {
     "name": "stdout",
     "output_type": "stream",
     "text": [
      "Recommendations for Frozen:\n",
      "506               Despicable Me 2\n",
      "88                     Big Hero 6\n",
      "26     Captain America: Civil War\n",
      "788                      Deadpool\n",
      "Name: title, dtype: object\n"
     ]
    }
   ],
   "source": [
    "movie_name = 'Frozen'\n",
    "print(f\"Recommendations for {movie_name}:\")\n",
    "print(recommend_movie(movie_name))"
   ]
  },
  {
   "cell_type": "code",
   "execution_count": 34,
   "id": "cb860d0a",
   "metadata": {},
   "outputs": [
    {
     "name": "stdout",
     "output_type": "stream",
     "text": [
      "Recommendations for Deadpool:\n",
      "94     Guardians of the Galaxy\n",
      "127         Mad Max: Fury Road\n",
      "28              Jurassic World\n",
      "95                Interstellar\n",
      "Name: title, dtype: object\n"
     ]
    }
   ],
   "source": [
    "movie_name = 'Deadpool'\n",
    "print(f\"Recommendations for {movie_name}:\")\n",
    "print(recommend_movie(movie_name))"
   ]
  },
  {
   "cell_type": "code",
   "execution_count": 35,
   "id": "21df114a",
   "metadata": {},
   "outputs": [
    {
     "name": "stdout",
     "output_type": "stream",
     "text": [
      "Recommendations for Interstellar:\n",
      "94     Guardians of the Galaxy\n",
      "788                   Deadpool\n",
      "28              Jurassic World\n",
      "127         Mad Max: Fury Road\n",
      "Name: title, dtype: object\n"
     ]
    }
   ],
   "source": [
    "movie_name = 'Interstellar'\n",
    "print(f\"Recommendations for {movie_name}:\")\n",
    "print(recommend_movie(movie_name))"
   ]
  },
  {
   "cell_type": "markdown",
   "id": "3546ee9f",
   "metadata": {},
   "source": [
    "### Note: There is a drawback with user input. If I enter movie name with slightly wrong spelling, it says there is no such movie in the database. So, we can handle it with text processing and get closest match using NLP. "
   ]
  },
  {
   "cell_type": "code",
   "execution_count": null,
   "id": "1a0245a5",
   "metadata": {},
   "outputs": [],
   "source": []
  },
  {
   "cell_type": "code",
   "execution_count": null,
   "id": "db671682",
   "metadata": {},
   "outputs": [],
   "source": []
  },
  {
   "cell_type": "code",
   "execution_count": null,
   "id": "7bc43e2d",
   "metadata": {},
   "outputs": [],
   "source": []
  },
  {
   "cell_type": "code",
   "execution_count": null,
   "id": "89325fee",
   "metadata": {},
   "outputs": [],
   "source": []
  },
  {
   "cell_type": "markdown",
   "id": "40d7b8d6",
   "metadata": {},
   "source": [
    "# Natural Language Processing"
   ]
  },
  {
   "cell_type": "code",
   "execution_count": 36,
   "id": "4fe75b55",
   "metadata": {},
   "outputs": [
    {
     "name": "stdout",
     "output_type": "stream",
     "text": [
      "Requirement already satisfied: fuzzywuzzy in c:\\programdata\\anaconda3\\lib\\site-packages (0.18.0)\n",
      "Requirement already satisfied: python-Levenshtein in c:\\programdata\\anaconda3\\lib\\site-packages (0.25.1)\n",
      "Requirement already satisfied: Levenshtein==0.25.1 in c:\\programdata\\anaconda3\\lib\\site-packages (from python-Levenshtein) (0.25.1)\n",
      "Requirement already satisfied: rapidfuzz<4.0.0,>=3.8.0 in c:\\programdata\\anaconda3\\lib\\site-packages (from Levenshtein==0.25.1->python-Levenshtein) (3.9.5)\n"
     ]
    }
   ],
   "source": [
    "!pip install fuzzywuzzy python-Levenshtein\n"
   ]
  },
  {
   "cell_type": "markdown",
   "id": "bf592084",
   "metadata": {},
   "source": [
    "## Preprocess text (user_input and movie titles)"
   ]
  },
  {
   "cell_type": "code",
   "execution_count": 37,
   "id": "22414317",
   "metadata": {},
   "outputs": [
    {
     "name": "stderr",
     "output_type": "stream",
     "text": [
      "[nltk_data] Downloading package stopwords to\n",
      "[nltk_data]     C:\\Users\\pc\\AppData\\Roaming\\nltk_data...\n",
      "[nltk_data]   Package stopwords is already up-to-date!\n"
     ]
    }
   ],
   "source": [
    "import nltk\n",
    "from nltk.corpus import stopwords\n",
    "import string\n",
    "from fuzzywuzzy import process\n",
    "\n",
    "# Download stopwords\n",
    "nltk.download('stopwords')\n",
    "\n",
    "def preprocess_text(text):\n",
    "    # Convert to lowercase\n",
    "    text = text.lower()\n",
    "    \n",
    "    # Remove punctuation\n",
    "    text = text.translate(str.maketrans('', '', string.punctuation))\n",
    "    \n",
    "    # Remove stopwords\n",
    "    stop_words = set(stopwords.words('english'))\n",
    "    text = ' '.join([word for word in text.split() if word not in stop_words])\n",
    "    \n",
    "    return text"
   ]
  },
  {
   "cell_type": "markdown",
   "id": "69e0e8fd",
   "metadata": {},
   "source": [
    "## get_closest_match "
   ]
  },
  {
   "cell_type": "code",
   "execution_count": 38,
   "id": "0eb52e76",
   "metadata": {},
   "outputs": [],
   "source": [
    "\n",
    "def get_closest_match(input_title, movie_titles):\n",
    "    # Preprocess the input title\n",
    "    input_title = preprocess_text(input_title)\n",
    "    \n",
    "    # Get the best match\n",
    "    closest_match, score = process.extractOne(input_title, movie_titles)\n",
    "    \n",
    "    return closest_match, score\n",
    "\n"
   ]
  },
  {
   "cell_type": "code",
   "execution_count": 39,
   "id": "6c93111f",
   "metadata": {},
   "outputs": [],
   "source": [
    "\n",
    "# Function to get similar movies with NLP preprocessing\n",
    "def recommend_movie(movie_title, n_neighbors=5):\n",
    "    # Preprocess movie titles in the dataset\n",
    "    preprocessed_titles = movies_all['title'].apply(preprocess_text).tolist()\n",
    "    \n",
    "    # Get the closest match for the input movie title\n",
    "    closest_match, score = get_closest_match(movie_title, preprocessed_titles)\n",
    "    \n",
    "    # Handle case where movie is not found or match score is low\n",
    "    # how closely they match if they are not iddentical\n",
    "    if score < 80:\n",
    "        return f\"Movie '{movie_title}' not found in the dataset. Closest match: '{closest_match}' with a score of {score}.\"\n",
    "\n",
    "    # Get the index of the movie using the closest match\n",
    "    movie_idx = preprocessed_titles.index(closest_match)\n",
    "    \n",
    "    # Extract the movie data as a DataFrame\n",
    "    movie_data = movies_features.iloc[movie_idx].to_frame().T\n",
    "    \n",
    "    # Transform the input movie data\n",
    "    movie_data_transformed = pipeline.named_steps['preprocessor'].transform(movie_data)\n",
    "    \n",
    "    # Find similar movies\n",
    "    distances, indices = pipeline.named_steps['knn'].kneighbors(movie_data_transformed)\n",
    "    similar_movie_indices = indices.flatten()\n",
    "    \n",
    "    # Get titles of similar movies\n",
    "    similar_movies = movies_all.iloc[similar_movie_indices]['title']\n",
    "    \n",
    "    # Filter out the input movie from its own recommendations\n",
    "    similar_movies = similar_movies[similar_movies != movies_all.iloc[movie_idx]['title']]\n",
    "    \n",
    "    return movies_all.iloc[movie_idx]['title'], similar_movies\n"
   ]
  },
  {
   "cell_type": "markdown",
   "id": "01e7efc8",
   "metadata": {},
   "source": [
    "# Model Validation (testing)"
   ]
  },
  {
   "cell_type": "code",
   "execution_count": 45,
   "id": "7e6cbe5d",
   "metadata": {},
   "outputs": [],
   "source": [
    "# Test the recommender system\n",
    "def test_recommendations(movie_name):\n",
    "    closest_match, recommendations = recommend_movie(movie_name)\n",
    "    print(f\"Input Movie: {movie_name}\")\n",
    "    print('\\n')\n",
    "    print(f\"Closest Match in Dataset: {closest_match}\")\n",
    "    print('\\n')\n",
    "    print(\"Recommended Movies:\")\n",
    "    print(recommendations)\n"
   ]
  },
  {
   "cell_type": "code",
   "execution_count": 46,
   "id": "5ce27a72",
   "metadata": {},
   "outputs": [
    {
     "name": "stdout",
     "output_type": "stream",
     "text": [
      "Input Movie: shel holmes\n",
      "\n",
      "\n",
      "Closest Match in Dataset: Sherlock Holmes: A Game of Shadows\n",
      "\n",
      "\n",
      "Recommended Movies:\n",
      "8      Harry Potter and the Half-Blood Prince\n",
      "26                 Captain America: Civil War\n",
      "22        The Hobbit: The Desolation of Smaug\n",
      "114       Harry Potter and the Goblet of Fire\n",
      "Name: title, dtype: object\n"
     ]
    }
   ],
   "source": [
    "test_recommendations('shel holmes') # it is working properly even I enter movie title with typos or less letters"
   ]
  },
  {
   "cell_type": "markdown",
   "id": "f8cc6278",
   "metadata": {},
   "source": [
    "# Model Evaluation"
   ]
  },
  {
   "cell_type": "code",
   "execution_count": 47,
   "id": "d83ee8a1",
   "metadata": {},
   "outputs": [
    {
     "name": "stdout",
     "output_type": "stream",
     "text": [
      "Recommendations for The Matrix:\n",
      "Input Movie: The Matrix\n",
      "\n",
      "\n",
      "Closest Match in Dataset: The Matrix\n",
      "\n",
      "\n",
      "Recommended Movies:\n",
      "96                Inception\n",
      "0                    Avatar\n",
      "68                 Iron Man\n",
      "3     The Dark Knight Rises\n",
      "Name: title, dtype: object\n",
      "\n",
      "\n",
      "Recommendations for Titanic:\n",
      "Input Movie: Titanic\n",
      "\n",
      "\n",
      "Closest Match in Dataset: Titanic\n",
      "\n",
      "\n",
      "Recommended Movies:\n",
      "662                   Fight Club\n",
      "65               The Dark Knight\n",
      "0                         Avatar\n",
      "1887    The Shawshank Redemption\n",
      "Name: title, dtype: object\n",
      "\n",
      "\n",
      "Recommendations for Avatar:\n",
      "Input Movie: Avatar\n",
      "\n",
      "\n",
      "Closest Match in Dataset: Avatar\n",
      "\n",
      "\n",
      "Recommended Movies:\n",
      "96                Inception\n",
      "68                 Iron Man\n",
      "16             The Avengers\n",
      "3     The Dark Knight Rises\n",
      "Name: title, dtype: object\n",
      "\n",
      "\n"
     ]
    }
   ],
   "source": [
    "# manual evaluation\n",
    "test_movies = ['The Matrix', 'Titanic', 'Avatar']\n",
    "for movie in test_movies:\n",
    "    print(f\"Recommendations for {movie}:\")\n",
    "    test_recommendations(movie)\n",
    "    print(\"\\n\")\n"
   ]
  },
  {
   "cell_type": "code",
   "execution_count": 48,
   "id": "904f3001",
   "metadata": {},
   "outputs": [
    {
     "name": "stdout",
     "output_type": "stream",
     "text": [
      "Recommendations for mrs smith:\n",
      "Input Movie: mrs smith\n",
      "\n",
      "\n",
      "Closest Match in Dataset: Mr. & Mrs. Smith\n",
      "\n",
      "\n",
      "Recommended Movies:\n",
      "74          Edge of Tomorrow\n",
      "694      The Bourne Identity\n",
      "3      The Dark Knight Rises\n",
      "29                   Skyfall\n",
      "Name: title, dtype: object\n"
     ]
    }
   ],
   "source": [
    "# Testing the recommender system with a movie name\n",
    "movie_name = 'mrs smith'\n",
    "print(f\"Recommendations for {movie_name}:\")\n",
    "test_recommendations(movie_name)"
   ]
  },
  {
   "cell_type": "code",
   "execution_count": 49,
   "id": "678bbf69",
   "metadata": {},
   "outputs": [
    {
     "name": "stdout",
     "output_type": "stream",
     "text": [
      "Recommendations for mtrx:\n",
      "Input Movie: mtrx\n",
      "\n",
      "\n",
      "Closest Match in Dataset: The Matrix\n",
      "\n",
      "\n",
      "Recommended Movies:\n",
      "96                Inception\n",
      "0                    Avatar\n",
      "68                 Iron Man\n",
      "3     The Dark Knight Rises\n",
      "Name: title, dtype: object\n"
     ]
    }
   ],
   "source": [
    "movie_name = 'mtrx'\n",
    "print(f\"Recommendations for {movie_name}:\")\n",
    "test_recommendations(movie_name)"
   ]
  },
  {
   "cell_type": "markdown",
   "id": "acce8748",
   "metadata": {},
   "source": [
    "# THANKS"
   ]
  },
  {
   "cell_type": "code",
   "execution_count": null,
   "id": "6fb4e114",
   "metadata": {},
   "outputs": [],
   "source": []
  }
 ],
 "metadata": {
  "kernelspec": {
   "display_name": "Python 3",
   "language": "python",
   "name": "python3"
  },
  "language_info": {
   "codemirror_mode": {
    "name": "ipython",
    "version": 3
   },
   "file_extension": ".py",
   "mimetype": "text/x-python",
   "name": "python",
   "nbconvert_exporter": "python",
   "pygments_lexer": "ipython3",
   "version": "3.8.8"
  }
 },
 "nbformat": 4,
 "nbformat_minor": 5
}
